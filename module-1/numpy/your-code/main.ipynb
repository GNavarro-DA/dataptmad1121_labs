{
 "cells": [
  {
   "cell_type": "markdown",
   "metadata": {},
   "source": [
    "# Introduction to NumPy\n",
    "\n",
    "\n",
    "#### 1. Import NumPy under the name np."
   ]
  },
  {
   "cell_type": "code",
   "execution_count": 28,
   "metadata": {},
   "outputs": [],
   "source": [
    "import numpy as np"
   ]
  },
  {
   "cell_type": "markdown",
   "metadata": {},
   "source": [
    "#### 2. Print your NumPy version."
   ]
  },
  {
   "cell_type": "code",
   "execution_count": 29,
   "metadata": {},
   "outputs": [
    {
     "data": {
      "text/plain": [
       "'1.21.2'"
      ]
     },
     "execution_count": 29,
     "metadata": {},
     "output_type": "execute_result"
    }
   ],
   "source": [
    "np.__version__"
   ]
  },
  {
   "cell_type": "markdown",
   "metadata": {},
   "source": [
    "#### 3. Generate a 2x3x5 3-dimensional array with random values. Assign the array to variable *a*.\n",
    "**Challenge**: there are at least three easy ways that use numpy to generate random arrays. How many ways can you find?"
   ]
  },
  {
   "cell_type": "code",
   "execution_count": 30,
   "metadata": {},
   "outputs": [],
   "source": [
    "# Method 1\n",
    "a = np.random.random((2,3,5))"
   ]
  },
  {
   "cell_type": "code",
   "execution_count": 31,
   "metadata": {},
   "outputs": [],
   "source": [
    "# Method 2\n",
    "lista = []\n",
    "import random\n",
    "for i in range(0,30):\n",
    "    number = random.random()\n",
    "    lista.append(number)\n",
    "a = np.array([lista])\n",
    "a = a.reshape(2,3,5)"
   ]
  },
  {
   "cell_type": "code",
   "execution_count": 32,
   "metadata": {},
   "outputs": [],
   "source": [
    "# Method 3\n"
   ]
  },
  {
   "cell_type": "markdown",
   "metadata": {},
   "source": [
    "#### 4. Print *a*.\n"
   ]
  },
  {
   "cell_type": "code",
   "execution_count": 33,
   "metadata": {},
   "outputs": [
    {
     "name": "stdout",
     "output_type": "stream",
     "text": [
      "[[[0.11163188 0.54302455 0.75137019 0.59467455 0.24755544]\n",
      "  [0.3999937  0.73720833 0.39212863 0.27197056 0.55785178]\n",
      "  [0.88530095 0.56904184 0.50540244 0.27310575 0.19465787]]\n",
      "\n",
      " [[0.54745861 0.50127153 0.9275026  0.12007732 0.22040124]\n",
      "  [0.17917357 0.58116866 0.66857696 0.77788995 0.29464424]\n",
      "  [0.25404763 0.6981928  0.27530224 0.01355567 0.97154501]]]\n"
     ]
    }
   ],
   "source": [
    "print(a)"
   ]
  },
  {
   "cell_type": "markdown",
   "metadata": {},
   "source": [
    "#### 5. Create a 5x2x3 3-dimensional array with all values equaling 1. Assign the array to variable *b*."
   ]
  },
  {
   "cell_type": "code",
   "execution_count": 34,
   "metadata": {},
   "outputs": [],
   "source": [
    "# your code here\n",
    "b = np.ones(shape=(5,2,3))"
   ]
  },
  {
   "cell_type": "markdown",
   "metadata": {},
   "source": [
    "#### 6. Print *b*.\n"
   ]
  },
  {
   "cell_type": "code",
   "execution_count": 35,
   "metadata": {},
   "outputs": [
    {
     "data": {
      "text/plain": [
       "array([[[1., 1., 1.],\n",
       "        [1., 1., 1.]],\n",
       "\n",
       "       [[1., 1., 1.],\n",
       "        [1., 1., 1.]],\n",
       "\n",
       "       [[1., 1., 1.],\n",
       "        [1., 1., 1.]],\n",
       "\n",
       "       [[1., 1., 1.],\n",
       "        [1., 1., 1.]],\n",
       "\n",
       "       [[1., 1., 1.],\n",
       "        [1., 1., 1.]]])"
      ]
     },
     "execution_count": 35,
     "metadata": {},
     "output_type": "execute_result"
    }
   ],
   "source": [
    "# your code here\n",
    "b"
   ]
  },
  {
   "cell_type": "markdown",
   "metadata": {},
   "source": [
    "#### 7. Do *a* and *b* have the same size? How do you prove that in Python code?"
   ]
  },
  {
   "cell_type": "code",
   "execution_count": 36,
   "metadata": {},
   "outputs": [
    {
     "name": "stdout",
     "output_type": "stream",
     "text": [
      "30\n",
      "30\n",
      "Both have the same size\n"
     ]
    }
   ],
   "source": [
    "# your code here\n",
    "print(a.size)\n",
    "print(b.size)\n",
    "\n",
    "if a.size == b.size:\n",
    "    print('Both have the same size')"
   ]
  },
  {
   "cell_type": "markdown",
   "metadata": {},
   "source": [
    "#### 8. Are you able to add *a* and *b*? Why or why not?\n"
   ]
  },
  {
   "cell_type": "code",
   "execution_count": 37,
   "metadata": {},
   "outputs": [
    {
     "ename": "ValueError",
     "evalue": "operands could not be broadcast together with shapes (2,3,5) (5,2,3) ",
     "output_type": "error",
     "traceback": [
      "\u001b[0;31m---------------------------------------------------------------------------\u001b[0m",
      "\u001b[0;31mValueError\u001b[0m                                Traceback (most recent call last)",
      "\u001b[0;32m/var/folders/2t/cbprz5q90_d73rw685g072j00000gn/T/ipykernel_59108/91051110.py\u001b[0m in \u001b[0;36m<module>\u001b[0;34m\u001b[0m\n\u001b[1;32m      1\u001b[0m \u001b[0;31m# your answer here\u001b[0m\u001b[0;34m\u001b[0m\u001b[0;34m\u001b[0m\u001b[0;34m\u001b[0m\u001b[0m\n\u001b[0;32m----> 2\u001b[0;31m \u001b[0mab\u001b[0m \u001b[0;34m=\u001b[0m \u001b[0ma\u001b[0m\u001b[0;34m+\u001b[0m\u001b[0mb\u001b[0m\u001b[0;34m\u001b[0m\u001b[0;34m\u001b[0m\u001b[0m\n\u001b[0m\u001b[1;32m      3\u001b[0m '''\n\u001b[1;32m      4\u001b[0m \u001b[0mBoth\u001b[0m \u001b[0marrays\u001b[0m \u001b[0mcannot\u001b[0m \u001b[0mbe\u001b[0m \u001b[0msummed\u001b[0m \u001b[0mbecause\u001b[0m \u001b[0mthe\u001b[0m \u001b[0mshapes\u001b[0m \u001b[0mare\u001b[0m \u001b[0mdifferent\u001b[0m\u001b[0;34m,\u001b[0m\u001b[0meven\u001b[0m \u001b[0mthough\u001b[0m \u001b[0msizes\u001b[0m \u001b[0mare\u001b[0m \u001b[0mthe\u001b[0m \u001b[0msame\u001b[0m\u001b[0;34m\u001b[0m\u001b[0;34m\u001b[0m\u001b[0m\n\u001b[1;32m      5\u001b[0m '''\n",
      "\u001b[0;31mValueError\u001b[0m: operands could not be broadcast together with shapes (2,3,5) (5,2,3) "
     ]
    }
   ],
   "source": [
    "# your answer here\n",
    "ab = a+b\n",
    "'''\n",
    "Both arrays cannot be summed because the shapes are different,even though sizes are the same\n",
    "'''"
   ]
  },
  {
   "cell_type": "markdown",
   "metadata": {},
   "source": [
    "#### 9. Transpose *b* so that it has the same structure of *a* (i.e. become a 2x3x5 array). Assign the transposed array to variable *c*."
   ]
  },
  {
   "cell_type": "code",
   "execution_count": 38,
   "metadata": {},
   "outputs": [
    {
     "data": {
      "text/plain": [
       "array([[[1., 1., 1., 1., 1.],\n",
       "        [1., 1., 1., 1., 1.],\n",
       "        [1., 1., 1., 1., 1.]],\n",
       "\n",
       "       [[1., 1., 1., 1., 1.],\n",
       "        [1., 1., 1., 1., 1.],\n",
       "        [1., 1., 1., 1., 1.]]])"
      ]
     },
     "execution_count": 38,
     "metadata": {},
     "output_type": "execute_result"
    }
   ],
   "source": [
    "# your code here\n",
    "c = b.reshape(2,3,5)\n",
    "c"
   ]
  },
  {
   "cell_type": "markdown",
   "metadata": {},
   "source": [
    "#### 10. Try to add *a* and *c*. Now it should work. Assign the sum to variable *d*. But why does it work now?"
   ]
  },
  {
   "cell_type": "code",
   "execution_count": 39,
   "metadata": {},
   "outputs": [
    {
     "data": {
      "text/plain": [
       "'\\nThis works now because the shape of the arrays are the same\\n'"
      ]
     },
     "execution_count": 39,
     "metadata": {},
     "output_type": "execute_result"
    }
   ],
   "source": [
    "# your code/answer here\n",
    "d = a + c\n",
    "'''\n",
    "This works now because the shape of the arrays are the same\n",
    "'''"
   ]
  },
  {
   "cell_type": "markdown",
   "metadata": {},
   "source": [
    "#### 11. Print *a* and *d*. Notice the difference and relation of the two array in terms of the values? Explain."
   ]
  },
  {
   "cell_type": "code",
   "execution_count": 40,
   "metadata": {},
   "outputs": [
    {
     "name": "stdout",
     "output_type": "stream",
     "text": [
      "[[[0.11163188 0.54302455 0.75137019 0.59467455 0.24755544]\n",
      "  [0.3999937  0.73720833 0.39212863 0.27197056 0.55785178]\n",
      "  [0.88530095 0.56904184 0.50540244 0.27310575 0.19465787]]\n",
      "\n",
      " [[0.54745861 0.50127153 0.9275026  0.12007732 0.22040124]\n",
      "  [0.17917357 0.58116866 0.66857696 0.77788995 0.29464424]\n",
      "  [0.25404763 0.6981928  0.27530224 0.01355567 0.97154501]]]\n",
      "----\n",
      "[[[1.11163188 1.54302455 1.75137019 1.59467455 1.24755544]\n",
      "  [1.3999937  1.73720833 1.39212863 1.27197056 1.55785178]\n",
      "  [1.88530095 1.56904184 1.50540244 1.27310575 1.19465787]]\n",
      "\n",
      " [[1.54745861 1.50127153 1.9275026  1.12007732 1.22040124]\n",
      "  [1.17917357 1.58116866 1.66857696 1.77788995 1.29464424]\n",
      "  [1.25404763 1.6981928  1.27530224 1.01355567 1.97154501]]]\n"
     ]
    },
    {
     "data": {
      "text/plain": [
       "\"\\nExplanation: as d has the same values as the b array, and b array was composed by ones, \\nthe result of the sum is the sum of each element of the array a added to the element in the same position in the array d\\nthat is d is the same array than a but with its elements' value increased in 1\\n\""
      ]
     },
     "execution_count": 40,
     "metadata": {},
     "output_type": "execute_result"
    }
   ],
   "source": [
    "# your code/answer here\n",
    "print(a)\n",
    "print('----')\n",
    "print(d)\n",
    "\n",
    "'''\n",
    "Explanation: as d has the same values as the b array, and b array was composed by ones, \n",
    "the result of the sum is the sum of each element of the array a added to the element in the same position in the array d\n",
    "that is d is the same array than a but with its elements' value increased in 1\n",
    "'''"
   ]
  },
  {
   "cell_type": "markdown",
   "metadata": {},
   "source": [
    "#### 12. Multiply *a* and *c*. Assign the result to *e*."
   ]
  },
  {
   "cell_type": "code",
   "execution_count": 41,
   "metadata": {},
   "outputs": [],
   "source": [
    "# your code here\n",
    "e = a * c"
   ]
  },
  {
   "cell_type": "markdown",
   "metadata": {},
   "source": [
    "#### 13. Does *e* equal to *a*? Why or why not?\n"
   ]
  },
  {
   "cell_type": "code",
   "execution_count": 42,
   "metadata": {},
   "outputs": [
    {
     "name": "stdout",
     "output_type": "stream",
     "text": [
      "same explanation than before, each element of a multiplies each element of c (that is, 1)\n"
     ]
    }
   ],
   "source": [
    "# your code/answer here\n",
    "a == e\n",
    "\n",
    "print('same explanation than before, each element of a multiplies each element of c (that is, 1)')"
   ]
  },
  {
   "cell_type": "markdown",
   "metadata": {},
   "source": [
    "#### 14. Identify the max, min, and mean values in *d*. Assign those values to variables *d_max*, *d_min* and *d_mean*."
   ]
  },
  {
   "cell_type": "code",
   "execution_count": 43,
   "metadata": {},
   "outputs": [],
   "source": [
    "# your code here\n",
    "d_max = d.max()\n",
    "d_min = d.min()\n",
    "d_mean = d.mean()"
   ]
  },
  {
   "cell_type": "markdown",
   "metadata": {},
   "source": [
    "#### 15. Now we want to label the values in *d*. First create an empty array *f* with the same shape (i.e. 2x3x5) as *d* using `np.empty`.\n"
   ]
  },
  {
   "cell_type": "code",
   "execution_count": 44,
   "metadata": {},
   "outputs": [
    {
     "data": {
      "text/plain": [
       "array([[[0.09284318, 0.55967091, 0.51167989, 0.5187983 , 0.33912685],\n",
       "        [0.6833244 , 0.76511609, 0.24237002, 0.71672775, 0.27724615],\n",
       "        [0.83180241, 0.82868259, 0.51268637, 0.02027204, 0.94919565]],\n",
       "\n",
       "       [[0.06484814, 0.66849966, 0.44674628, 0.48261965, 0.73083974],\n",
       "        [0.12933094, 0.03471306, 0.53053545, 0.76824099, 0.49227225],\n",
       "        [0.23663087, 0.0789756 , 0.85339457, 0.58129185, 0.52756132]]])"
      ]
     },
     "execution_count": 44,
     "metadata": {},
     "output_type": "execute_result"
    }
   ],
   "source": [
    "# your code here\n",
    "f = np.empty((2,3,5))\n",
    "f"
   ]
  },
  {
   "cell_type": "markdown",
   "metadata": {},
   "source": [
    "#### 16. Populate the values in *f*. \n",
    "\n",
    "For each value in *d*, if it's larger than *d_min* but smaller than *d_mean*, assign 25 to the corresponding value in *f*. If a value in *d* is larger than *d_mean* but smaller than *d_max*, assign 75 to the corresponding value in *f*. If a value equals to *d_mean*, assign 50 to the corresponding value in *f*. Assign 0 to the corresponding value(s) in *f* for *d_min* in *d*. Assign 100 to the corresponding value(s) in *f* for *d_max* in *d*. In the end, f should have only the following values: 0, 25, 50, 75, and 100.\n",
    "\n",
    "**Note**: you don't have to use Numpy in this question."
   ]
  },
  {
   "cell_type": "code",
   "execution_count": 45,
   "metadata": {},
   "outputs": [],
   "source": [
    "# your code here\n",
    "def new_array_3dim(x,y):\n",
    "    x_max = x.max()\n",
    "    x_min = x.min()\n",
    "    x_mean = x.mean()\n",
    "    \n",
    "    shape = x.shape\n",
    "    \n",
    "    for i in range(shape[0]):\n",
    "        for j in range(shape[1]):\n",
    "            for k in range(shape[2]):\n",
    "                if x_min < x[i,j,k] < x_mean:\n",
    "                    y[i,j,k]=25\n",
    "                elif x_mean < x[i,j,k] < x_max:\n",
    "                    y[i,j,k]=75\n",
    "                elif x[i,j,k] == x_mean:\n",
    "                    y[i,j,k]=50\n",
    "                elif x[i,j,k] == x_min:\n",
    "                    y[i,j,k]=0\n",
    "                elif x[i,j,k] == x_max:\n",
    "                    y[i,j,k]=100\n"
   ]
  },
  {
   "cell_type": "code",
   "execution_count": 46,
   "metadata": {},
   "outputs": [
    {
     "name": "stdout",
     "output_type": "stream",
     "text": [
      "[[[ 25.  75.  75.  75.  25.]\n",
      "  [ 25.  75.  25.  25.  75.]\n",
      "  [ 75.  75.  75.  25.  25.]]\n",
      "\n",
      " [[ 75.  75.  75.  25.  25.]\n",
      "  [ 25.  75.  75.  75.  25.]\n",
      "  [ 25.  75.  25.   0. 100.]]]\n"
     ]
    }
   ],
   "source": [
    "new_array_3dim(d,f)\n",
    "print(f)"
   ]
  },
  {
   "cell_type": "markdown",
   "metadata": {},
   "source": [
    "#### 17. Print *d* and *f*. Do you have your expected *f*?\n",
    "For instance, if your *d* is:\n",
    "```python\n",
    "[[[1.85836099, 1.67064465, 1.62576044, 1.40243961, 1.88454931],\n",
    "[1.75354326, 1.69403643, 1.36729252, 1.61415071, 1.12104981],\n",
    "[1.72201435, 1.1862918 , 1.87078449, 1.7726778 , 1.88180042]],\n",
    "[[1.44747908, 1.31673383, 1.02000951, 1.52218947, 1.97066381],\n",
    "[1.79129243, 1.74983003, 1.96028037, 1.85166831, 1.65450881],\n",
    "[1.18068344, 1.9587381 , 1.00656599, 1.93402165, 1.73514584]]]\n",
    "```\n",
    "Your *f* should be:\n",
    "```python\n",
    "[[[ 75.,  75.,  75.,  25.,  75.],\n",
    "[ 75.,  75.,  25.,  25.,  25.],\n",
    "[ 75.,  25.,  75.,  75.,  75.]],\n",
    "[[ 25.,  25.,  25.,  25., 100.],\n",
    "[ 75.,  75.,  75.,  75.,  75.],\n",
    "[ 25.,  75.,   0.,  75.,  75.]]]\n",
    "```"
   ]
  },
  {
   "cell_type": "code",
   "execution_count": 47,
   "metadata": {},
   "outputs": [
    {
     "name": "stdout",
     "output_type": "stream",
     "text": [
      "[[[1.11163188 1.54302455 1.75137019 1.59467455 1.24755544]\n",
      "  [1.3999937  1.73720833 1.39212863 1.27197056 1.55785178]\n",
      "  [1.88530095 1.56904184 1.50540244 1.27310575 1.19465787]]\n",
      "\n",
      " [[1.54745861 1.50127153 1.9275026  1.12007732 1.22040124]\n",
      "  [1.17917357 1.58116866 1.66857696 1.77788995 1.29464424]\n",
      "  [1.25404763 1.6981928  1.27530224 1.01355567 1.97154501]]]\n",
      " \n",
      "[[[ 25.  75.  75.  75.  25.]\n",
      "  [ 25.  75.  25.  25.  75.]\n",
      "  [ 75.  75.  75.  25.  25.]]\n",
      "\n",
      " [[ 75.  75.  75.  25.  25.]\n",
      "  [ 25.  75.  75.  75.  25.]\n",
      "  [ 25.  75.  25.   0. 100.]]]\n"
     ]
    }
   ],
   "source": [
    "# your code here\n",
    "print(d)\n",
    "print(' ')\n",
    "print(f)"
   ]
  },
  {
   "cell_type": "markdown",
   "metadata": {},
   "source": [
    "#### 18. Bonus question: instead of using numbers (i.e. 0, 25, 50, 75, and 100), use string values  (\"A\", \"B\", \"C\", \"D\", and \"E\") to label the array elements. For the example above, the expected result is:\n",
    "\n",
    "```python\n",
    "[[[ 'D',  'D',  'D',  'B',  'D'],\n",
    "[ 'D',  'D',  'B',  'B',  'B'],\n",
    "[ 'D',  'B',  'D',  'D',  'D']],\n",
    "[[ 'B',  'B',  'B',  'B',  'E'],\n",
    "[ 'D',  'D',  'D',  'D',  'D'],\n",
    "[ 'B',  'D',   'A',  'D', 'D']]]\n",
    "```\n",
    "**Note**: you don't have to use Numpy in this question."
   ]
  },
  {
   "cell_type": "code",
   "execution_count": 67,
   "metadata": {},
   "outputs": [],
   "source": [
    "# your code here\n",
    "def new_array_3dim_letters(x,y):\n",
    "    x_max = x.max()\n",
    "    x_min = x.min()\n",
    "    x_mean = x.mean()\n",
    "    y = y.astype(str)\n",
    "    shape = x.shape\n",
    "    \n",
    "    for i in range(shape[0]):\n",
    "        for j in range(shape[1]):\n",
    "            for k in range(shape[2]):\n",
    "                if x_min < x[i,j,k] < x_mean:\n",
    "                    y[i,j,k]='B'\n",
    "                elif x_mean < x[i,j,k] < x_max:\n",
    "                    y[i,j,k]='D'\n",
    "                elif x[i,j,k] == x_mean:\n",
    "                    y[i,j,k]='C'\n",
    "                elif x[i,j,k] == x_min:\n",
    "                    y[i,j,k]='A'\n",
    "                elif x[i,j,k] == x_max:\n",
    "                    y[i,j,k]='E'\n",
    "    return y"
   ]
  },
  {
   "cell_type": "code",
   "execution_count": 70,
   "metadata": {},
   "outputs": [
    {
     "data": {
      "text/plain": [
       "array([[['B', 'D', 'D', 'D', 'B'],\n",
       "        ['B', 'D', 'B', 'B', 'D'],\n",
       "        ['D', 'D', 'D', 'B', 'B']],\n",
       "\n",
       "       [['D', 'D', 'D', 'B', 'B'],\n",
       "        ['B', 'D', 'D', 'D', 'B'],\n",
       "        ['B', 'D', 'B', 'A', 'E']]], dtype='<U32')"
      ]
     },
     "execution_count": 70,
     "metadata": {},
     "output_type": "execute_result"
    }
   ],
   "source": [
    "new_array_3dim_letters(d,f)"
   ]
  },
  {
   "cell_type": "code",
   "execution_count": null,
   "metadata": {},
   "outputs": [],
   "source": []
  }
 ],
 "metadata": {
  "kernelspec": {
   "display_name": "Python [conda env:ironhack]",
   "language": "python",
   "name": "conda-env-ironhack-py"
  },
  "language_info": {
   "codemirror_mode": {
    "name": "ipython",
    "version": 3
   },
   "file_extension": ".py",
   "mimetype": "text/x-python",
   "name": "python",
   "nbconvert_exporter": "python",
   "pygments_lexer": "ipython3",
   "version": "3.7.11"
  }
 },
 "nbformat": 4,
 "nbformat_minor": 2
}
