{
 "cells": [
  {
   "cell_type": "markdown",
   "metadata": {},
   "source": [
    "## Challenge 2: Sets\n",
    "\n",
    "There are a lot to learn about Python Sets and the information presented in the lesson is limited due to its length. To learn Python Sets in depth you are strongly encouraged to review the W3Schools tutorial on [Python Sets Examples and Methods](https://www.w3schools.com/python/python_sets.asp) before you work on this lab. Some difficult questions in this lab have their solutions in the W3Schools tutorial.\n",
    "\n",
    "#### First, import the Python `random` library."
   ]
  },
  {
   "cell_type": "code",
   "execution_count": 18,
   "metadata": {},
   "outputs": [],
   "source": [
    "import random"
   ]
  },
  {
   "cell_type": "markdown",
   "metadata": {},
   "source": [
    "#### In the cell below, create a list named `sample_list_1` with 80 random values. \n",
    "\n",
    "Requirements:\n",
    "\n",
    "* Each value is an integer falling between 0 and 100.\n",
    "* Each value in the list is unique.\n",
    "\n",
    "Print `sample_list_1` to review its values\n",
    "\n",
    "*Hint: use `random.sample` ([reference](https://docs.python.org/3/library/random.html#random.sample)).*"
   ]
  },
  {
   "cell_type": "code",
   "execution_count": 19,
   "metadata": {},
   "outputs": [
    {
     "name": "stdout",
     "output_type": "stream",
     "text": [
      "[27, 50, 25, 10, 78, 84, 67, 70, 79, 99, 46, 1, 7, 80, 54, 94, 91, 83, 13, 74, 9, 51, 89, 16, 77, 30, 28, 61, 14, 64, 43, 52, 36, 39, 59, 96, 5, 93, 19, 3, 57, 24, 56, 6, 71, 0, 17, 65, 37, 69, 44, 75, 87, 88, 82, 86, 68, 49, 33, 85, 32, 23, 76, 98, 26, 35, 58, 11, 29, 45, 97, 48, 40, 42, 31, 53, 92, 55, 62, 15]\n"
     ]
    },
    {
     "data": {
      "text/plain": [
       "int"
      ]
     },
     "execution_count": 19,
     "metadata": {},
     "output_type": "execute_result"
    }
   ],
   "source": [
    "# Your code here\n",
    "#define the range of the population numbers\n",
    "population = range(0,100)\n",
    "#create the list of random numbers\n",
    "sample_list_1= random.sample(population, k=80)\n",
    "print(sample_list_1)\n",
    "#ensure each value of the list is an integer\n",
    "for i in sample_list_1: \n",
    "    int(i)\n",
    "#check if the values are integers\n",
    "type(sample_list_1[1])"
   ]
  },
  {
   "cell_type": "markdown",
   "metadata": {},
   "source": [
    "#### Convert `sample_list_1` to a set called `set1`. Print the length of the set. Is its length still 80?"
   ]
  },
  {
   "cell_type": "code",
   "execution_count": 20,
   "metadata": {},
   "outputs": [
    {
     "name": "stdout",
     "output_type": "stream",
     "text": [
      "{0, 1, 3, 5, 6, 7, 9, 10, 11, 13, 14, 15, 16, 17, 19, 23, 24, 25, 26, 27, 28, 29, 30, 31, 32, 33, 35, 36, 37, 39, 40, 42, 43, 44, 45, 46, 48, 49, 50, 51, 52, 53, 54, 55, 56, 57, 58, 59, 61, 62, 64, 65, 67, 68, 69, 70, 71, 74, 75, 76, 77, 78, 79, 80, 82, 83, 84, 85, 86, 87, 88, 89, 91, 92, 93, 94, 96, 97, 98, 99}\n",
      "<class 'set'>\n"
     ]
    }
   ],
   "source": [
    "# Your code here\n",
    "set1 = set((sample_list_1))\n",
    "print(set1)\n",
    "print(type(set1))"
   ]
  },
  {
   "cell_type": "markdown",
   "metadata": {},
   "source": [
    "#### Create another list named `sample_list_2` with 80 random values.\n",
    "\n",
    "Requirements:\n",
    "\n",
    "* Each value is an integer falling between 0 and 100.\n",
    "* The values in the list don't have to be unique.\n",
    "\n",
    "*Hint: Use a FOR loop.*"
   ]
  },
  {
   "cell_type": "code",
   "execution_count": 21,
   "metadata": {},
   "outputs": [
    {
     "name": "stdout",
     "output_type": "stream",
     "text": [
      "[60, 86, 67, 31, 39, 91, 28, 11, 74, 56, 0, 26, 53, 78, 79, 24, 2, 22, 94, 1, 72, 35, 69, 0, 48, 12, 26, 23, 7, 16, 56, 74, 2, 93, 62, 60, 56, 88, 40, 88, 93, 84, 49, 88, 2, 37, 94, 70, 50, 28, 87, 32, 21, 61, 18, 80, 85, 16, 62, 83, 21, 8, 50, 62, 85, 40, 11, 59, 81, 16, 59, 38, 33, 5, 74, 47, 61, 69, 46, 100]\n"
     ]
    }
   ],
   "source": [
    "# Your code here\n",
    "population = range(0,100)\n",
    "sample_list_2 = []\n",
    "for i in range(0, 80):\n",
    "    x= random.randint(0,100)\n",
    "    sample_list_2.append(x)\n",
    "print(sample_list_2)"
   ]
  },
  {
   "cell_type": "markdown",
   "metadata": {},
   "source": [
    "#### Convert `sample_list_2` to a set called `set2`. Print the length of the set. Is its length still 80?"
   ]
  },
  {
   "cell_type": "code",
   "execution_count": 22,
   "metadata": {},
   "outputs": [
    {
     "name": "stdout",
     "output_type": "stream",
     "text": [
      "{0, 1, 2, 5, 7, 8, 11, 12, 16, 18, 21, 22, 23, 24, 26, 28, 31, 32, 33, 35, 37, 38, 39, 40, 46, 47, 48, 49, 50, 53, 56, 59, 60, 61, 62, 67, 69, 70, 72, 74, 78, 79, 80, 81, 83, 84, 85, 86, 87, 88, 91, 93, 94, 100}\n",
      "54\n"
     ]
    }
   ],
   "source": [
    "# Your code here\n",
    "set2 = set((sample_list_2))\n",
    "print(set2)\n",
    "print(len(set2))"
   ]
  },
  {
   "cell_type": "markdown",
   "metadata": {},
   "source": [
    "#### Identify the elements present in `set1` but not in `set2`. Assign the elements to a new set named `set3`."
   ]
  },
  {
   "cell_type": "code",
   "execution_count": 23,
   "metadata": {},
   "outputs": [
    {
     "name": "stdout",
     "output_type": "stream",
     "text": [
      "{3, 6, 9, 10, 13, 14, 15, 17, 19, 25, 27, 29, 30, 36, 42, 43, 44, 45, 51, 52, 54, 55, 57, 58, 64, 65, 68, 71, 75, 76, 77, 82, 89, 92, 96, 97, 98, 99}\n"
     ]
    }
   ],
   "source": [
    "# Your code here\n",
    "set3 = set1 - set2\n",
    "print(set3)"
   ]
  },
  {
   "cell_type": "markdown",
   "metadata": {},
   "source": [
    "#### Identify the elements present in `set2` but not in `set1`. Assign the elements to a new set named `set4`."
   ]
  },
  {
   "cell_type": "code",
   "execution_count": 24,
   "metadata": {},
   "outputs": [
    {
     "name": "stdout",
     "output_type": "stream",
     "text": [
      "{2, 100, 38, 8, 72, 12, 47, 81, 18, 21, 22, 60}\n"
     ]
    }
   ],
   "source": [
    "# Your code here\n",
    "set4 = set2 - set1\n",
    "print(set4)"
   ]
  },
  {
   "cell_type": "markdown",
   "metadata": {},
   "source": [
    "#### Now Identify the elements shared between `set1` and `set2`. Assign the elements to a new set named `set5`."
   ]
  },
  {
   "cell_type": "code",
   "execution_count": 25,
   "metadata": {},
   "outputs": [
    {
     "name": "stdout",
     "output_type": "stream",
     "text": [
      "{0, 1, 5, 7, 11, 16, 23, 24, 26, 28, 31, 32, 33, 35, 37, 39, 40, 46, 48, 49, 50, 53, 56, 59, 61, 62, 67, 69, 70, 74, 78, 79, 80, 83, 84, 85, 86, 87, 88, 91, 93, 94}\n"
     ]
    }
   ],
   "source": [
    "# Your code here\n",
    "set5 = set1.intersection(set2)\n",
    "print(set5)"
   ]
  },
  {
   "cell_type": "markdown",
   "metadata": {},
   "source": [
    "#### What is the relationship among the following values:\n",
    "\n",
    "* len(set1)\n",
    "* len(set2)\n",
    "* len(set3)\n",
    "* len(set4)\n",
    "* len(set5)\n",
    "\n",
    "Use a math formular to represent that relationship. Test your formular with Python code."
   ]
  },
  {
   "cell_type": "code",
   "execution_count": 30,
   "metadata": {},
   "outputs": [
    {
     "name": "stdout",
     "output_type": "stream",
     "text": [
      "80\n",
      "54\n",
      "38\n",
      "12\n",
      "42\n",
      "Assumption 1 is  True\n",
      "Assumption 2 is  True\n",
      "Assumption 3 is  True\n",
      "Assumption 4 is  True\n",
      "Assumption 1 is  True\n"
     ]
    }
   ],
   "source": [
    "# Your code here\n",
    "'''\n",
    "set1 is an independent set based on a list of independent numbers with n=80, so the lenght is 80. \n",
    "set2 is an independent set based on a list of repeated numbers with n=80 so the lenth is <80 because the set does not allow repeated items\n",
    "set3 is the difference of both sets set1-set2\n",
    "set4 is the difference of set2 - set1.\n",
    "set5 is the intersection of set set1 and set2. \n",
    "\n",
    "So, based on that, we got the following assumptions: \n",
    "len(set1)=80\n",
    "len(set2) = len(set5) + len(set4) that is, all digits in common + exclusive set2 digits\n",
    "len(set3) = len(set1) - len(set5) that is, all digits of set1 - common digits = set1 exclusive digits\n",
    "len(set4) = len(set2) - len(set5) same reasoning than in set3\n",
    "len(set5) = len(set1) - len(set3) = len(set2)-len(set4)\n",
    "'''\n",
    "#print all lengths to check\n",
    "print(len(set1))\n",
    "print(len(set2))\n",
    "print(len(set3))\n",
    "print(len(set4))\n",
    "print(len(set5))\n",
    "#check if assumptions are correct: \n",
    "print('Assumption 1 is ', len(set1) == 80)\n",
    "print('Assumption 2 is ', len(set2) == len(set5) + len(set4))\n",
    "print('Assumption 3 is ', len(set3) == len(set1) - len(set5))\n",
    "print('Assumption 4 is ', len(set4) == len(set2) - len(set5))\n",
    "print('Assumption 1 is ', len(set5) == len(set1)- len(set3)& len(set5) == len(set2)-len(set4))"
   ]
  },
  {
   "cell_type": "markdown",
   "metadata": {},
   "source": [
    "#### Create an empty set called `set6`."
   ]
  },
  {
   "cell_type": "code",
   "execution_count": 35,
   "metadata": {},
   "outputs": [],
   "source": [
    "# Your code here\n",
    "set6 = set(())"
   ]
  },
  {
   "cell_type": "markdown",
   "metadata": {},
   "source": [
    "#### Add `set3` and `set5` to `set6` using the Python Set `update` method."
   ]
  },
  {
   "cell_type": "code",
   "execution_count": 37,
   "metadata": {},
   "outputs": [
    {
     "name": "stdout",
     "output_type": "stream",
     "text": [
      "{0, 1, 3, 5, 6, 7, 9, 10, 11, 13, 14, 15, 16, 17, 19, 23, 24, 25, 26, 27, 28, 29, 30, 31, 32, 33, 35, 36, 37, 39, 40, 42, 43, 44, 45, 46, 48, 49, 50, 51, 52, 53, 54, 55, 56, 57, 58, 59, 61, 62, 64, 65, 67, 68, 69, 70, 71, 74, 75, 76, 77, 78, 79, 80, 82, 83, 84, 85, 86, 87, 88, 89, 91, 92, 93, 94, 96, 97, 98, 99}\n"
     ]
    }
   ],
   "source": [
    "# Your code here\n",
    "set6.update(set3)\n",
    "set6.update(set5)\n",
    "print(set6)"
   ]
  },
  {
   "cell_type": "markdown",
   "metadata": {},
   "source": [
    "#### Check if `set1` and `set6` are equal."
   ]
  },
  {
   "cell_type": "code",
   "execution_count": null,
   "metadata": {},
   "outputs": [],
   "source": [
    "# Your code here\n"
   ]
  },
  {
   "cell_type": "markdown",
   "metadata": {},
   "source": [
    "#### Check if `set1` contains `set2` using the Python Set `issubset` method. Then check if `set1` contains `set3`.*"
   ]
  },
  {
   "cell_type": "code",
   "execution_count": null,
   "metadata": {},
   "outputs": [],
   "source": [
    "# Your code here\n"
   ]
  },
  {
   "cell_type": "markdown",
   "metadata": {},
   "source": [
    "#### Using the Python Set `union` method, aggregate `set3`, `set4`, and `set5`. Then aggregate `set1` and `set2`. \n",
    "\n",
    "#### Check if the aggregated values are equal."
   ]
  },
  {
   "cell_type": "code",
   "execution_count": null,
   "metadata": {},
   "outputs": [],
   "source": [
    "# Your code here\n"
   ]
  },
  {
   "cell_type": "markdown",
   "metadata": {},
   "source": [
    "#### Using the `pop` method, remove the first element from `set1`."
   ]
  },
  {
   "cell_type": "code",
   "execution_count": null,
   "metadata": {},
   "outputs": [],
   "source": [
    "# Your code here\n"
   ]
  },
  {
   "cell_type": "markdown",
   "metadata": {},
   "source": [
    "#### Remove every element in the following list from `set1` if they are present in the set. Print the remaining elements.\n",
    "\n",
    "```\n",
    "list_to_remove = [1, 9, 11, 19, 21, 29, 31, 39, 41, 49, 51, 59, 61, 69, 71, 79, 81, 89, 91, 99]\n",
    "```"
   ]
  },
  {
   "cell_type": "code",
   "execution_count": null,
   "metadata": {},
   "outputs": [],
   "source": [
    "# Your code here\n"
   ]
  }
 ],
 "metadata": {
  "kernelspec": {
   "display_name": "Python [conda env:ironhack]",
   "language": "python",
   "name": "conda-env-ironhack-py"
  },
  "language_info": {
   "codemirror_mode": {
    "name": "ipython",
    "version": 3
   },
   "file_extension": ".py",
   "mimetype": "text/x-python",
   "name": "python",
   "nbconvert_exporter": "python",
   "pygments_lexer": "ipython3",
   "version": "3.7.11"
  }
 },
 "nbformat": 4,
 "nbformat_minor": 2
}
